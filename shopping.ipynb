{
 "cells": [
  {
   "cell_type": "code",
   "execution_count": 1,
   "metadata": {},
   "outputs": [],
   "source": [
    "import pandas as pd\n",
    "from collections import defaultdict\n",
    "from itertools import combinations"
   ]
  },
  {
   "cell_type": "code",
   "execution_count": 2,
   "metadata": {},
   "outputs": [
    {
     "data": {
      "text/html": [
       "<div>\n",
       "<style scoped>\n",
       "    .dataframe tbody tr th:only-of-type {\n",
       "        vertical-align: middle;\n",
       "    }\n",
       "\n",
       "    .dataframe tbody tr th {\n",
       "        vertical-align: top;\n",
       "    }\n",
       "\n",
       "    .dataframe thead th {\n",
       "        text-align: right;\n",
       "    }\n",
       "</style>\n",
       "<table border=\"1\" class=\"dataframe\">\n",
       "  <thead>\n",
       "    <tr style=\"text-align: right;\">\n",
       "      <th></th>\n",
       "      <th>Member_number</th>\n",
       "      <th>Date</th>\n",
       "      <th>itemDescription</th>\n",
       "    </tr>\n",
       "  </thead>\n",
       "  <tbody>\n",
       "    <tr>\n",
       "      <th>0</th>\n",
       "      <td>1808</td>\n",
       "      <td>21-07-2015</td>\n",
       "      <td>tropical fruit</td>\n",
       "    </tr>\n",
       "    <tr>\n",
       "      <th>1</th>\n",
       "      <td>2552</td>\n",
       "      <td>05-01-2015</td>\n",
       "      <td>whole milk</td>\n",
       "    </tr>\n",
       "    <tr>\n",
       "      <th>2</th>\n",
       "      <td>2300</td>\n",
       "      <td>19-09-2015</td>\n",
       "      <td>pip fruit</td>\n",
       "    </tr>\n",
       "    <tr>\n",
       "      <th>3</th>\n",
       "      <td>1187</td>\n",
       "      <td>12-12-2015</td>\n",
       "      <td>other vegetables</td>\n",
       "    </tr>\n",
       "    <tr>\n",
       "      <th>4</th>\n",
       "      <td>3037</td>\n",
       "      <td>01-02-2015</td>\n",
       "      <td>whole milk</td>\n",
       "    </tr>\n",
       "  </tbody>\n",
       "</table>\n",
       "</div>"
      ],
      "text/plain": [
       "   Member_number        Date   itemDescription\n",
       "0           1808  21-07-2015    tropical fruit\n",
       "1           2552  05-01-2015        whole milk\n",
       "2           2300  19-09-2015         pip fruit\n",
       "3           1187  12-12-2015  other vegetables\n",
       "4           3037  01-02-2015        whole milk"
      ]
     },
     "execution_count": 2,
     "metadata": {},
     "output_type": "execute_result"
    }
   ],
   "source": [
    "raw_data = pd.read_csv(\"Groceries_dataset.csv\")\n",
    "raw_data.head()"
   ]
  },
  {
   "cell_type": "code",
   "execution_count": 3,
   "metadata": {},
   "outputs": [],
   "source": [
    "raw_data = raw_data.sort_values(['Date', 'Member_number'])"
   ]
  },
  {
   "cell_type": "code",
   "execution_count": 5,
   "metadata": {},
   "outputs": [
    {
     "data": {
      "text/html": [
       "<div>\n",
       "<style scoped>\n",
       "    .dataframe tbody tr th:only-of-type {\n",
       "        vertical-align: middle;\n",
       "    }\n",
       "\n",
       "    .dataframe tbody tr th {\n",
       "        vertical-align: top;\n",
       "    }\n",
       "\n",
       "    .dataframe thead th {\n",
       "        text-align: right;\n",
       "    }\n",
       "</style>\n",
       "<table border=\"1\" class=\"dataframe\">\n",
       "  <thead>\n",
       "    <tr style=\"text-align: right;\">\n",
       "      <th></th>\n",
       "      <th>Date</th>\n",
       "      <th>Member_number</th>\n",
       "      <th>itemDescription</th>\n",
       "    </tr>\n",
       "  </thead>\n",
       "  <tbody>\n",
       "    <tr>\n",
       "      <th>0</th>\n",
       "      <td>01-01-2014</td>\n",
       "      <td>1249</td>\n",
       "      <td>[citrus fruit, coffee]</td>\n",
       "    </tr>\n",
       "    <tr>\n",
       "      <th>1</th>\n",
       "      <td>01-01-2014</td>\n",
       "      <td>1381</td>\n",
       "      <td>[curd, soda]</td>\n",
       "    </tr>\n",
       "    <tr>\n",
       "      <th>2</th>\n",
       "      <td>01-01-2014</td>\n",
       "      <td>1440</td>\n",
       "      <td>[other vegetables, yogurt]</td>\n",
       "    </tr>\n",
       "    <tr>\n",
       "      <th>3</th>\n",
       "      <td>01-01-2014</td>\n",
       "      <td>1659</td>\n",
       "      <td>[specialty chocolate, frozen vegetables]</td>\n",
       "    </tr>\n",
       "    <tr>\n",
       "      <th>4</th>\n",
       "      <td>01-01-2014</td>\n",
       "      <td>1789</td>\n",
       "      <td>[hamburger meat, candles]</td>\n",
       "    </tr>\n",
       "  </tbody>\n",
       "</table>\n",
       "</div>"
      ],
      "text/plain": [
       "         Date  Member_number                           itemDescription\n",
       "0  01-01-2014           1249                    [citrus fruit, coffee]\n",
       "1  01-01-2014           1381                              [curd, soda]\n",
       "2  01-01-2014           1440                [other vegetables, yogurt]\n",
       "3  01-01-2014           1659  [specialty chocolate, frozen vegetables]\n",
       "4  01-01-2014           1789                 [hamburger meat, candles]"
      ]
     },
     "execution_count": 5,
     "metadata": {},
     "output_type": "execute_result"
    }
   ],
   "source": [
    "data = raw_data.groupby(['Date', 'Member_number'])['itemDescription'].apply(list).reset_index(drop=False).copy()\n",
    "data.head()"
   ]
  },
  {
   "cell_type": "code",
   "execution_count": 7,
   "metadata": {},
   "outputs": [],
   "source": [
    "# Creating a default dict to contain item counts\n",
    "item_counts = defaultdict(int)\n",
    "pair_counts = defaultdict(int)\n",
    "\n",
    "# Go over the entire dataset\n",
    "for ind, row in data.iterrows():\n",
    "    receipt = list(set(row.itemDescription))\n",
    "    # For each receipt iterate over items and update their counts\n",
    "    for item in receipt:\n",
    "        item_counts[item] +=1\n",
    "\n",
    "    # For each receipt iterate over items and update pair counts\n",
    "    for (a, b) in combinations(receipt, 2):\n",
    "        pair_counts[(a, b)] += 1\n",
    "        pair_counts[(b, a)] += 1"
   ]
  },
  {
   "cell_type": "code",
   "execution_count": 33,
   "metadata": {},
   "outputs": [],
   "source": [
    "cond_prob = defaultdict(float)\n",
    "# Defining a probability threshold to include in the conditional probability dict\n",
    "prob_threshold = 0.24\n",
    "# Defining a min count threshold to include in the condiitonal probability dict\n",
    "count_threshold = 5\n",
    "for (a, b) in pair_counts:\n",
    "    conf = pair_counts[(a, b)]/item_counts[a]\n",
    "    if conf > prob_threshold and item_counts[a] > count_threshold:\n",
    "        cond_prob[(a, b)] = conf"
   ]
  },
  {
   "cell_type": "code",
   "execution_count": 34,
   "metadata": {},
   "outputs": [],
   "source": [
    "rules = sorted(cond_prob.items(), key= lambda item: item[1], reverse=True)"
   ]
  },
  {
   "cell_type": "code",
   "execution_count": 35,
   "metadata": {},
   "outputs": [
    {
     "data": {
      "text/plain": [
       "[(('brandy', 'whole milk'), 0.34210526315789475),\n",
       " (('softener', 'whole milk'), 0.2926829268292683),\n",
       " (('syrup', 'whole milk'), 0.2857142857142857),\n",
       " (('canned fruit', 'whole milk'), 0.2857142857142857),\n",
       " (('artif. sweetener', 'whole milk'), 0.27586206896551724),\n",
       " (('specialty vegetables', 'yogurt'), 0.2727272727272727),\n",
       " (('ready soups', 'whole milk'), 0.26666666666666666),\n",
       " (('whisky', 'pastry'), 0.25),\n",
       " (('whisky', 'specialty chocolate'), 0.25),\n",
       " (('whisky', 'root vegetables'), 0.25),\n",
       " (('cream', 'newspapers'), 0.25),\n",
       " (('cream', 'sausage'), 0.25),\n",
       " (('house keeping products', 'whole milk'), 0.24444444444444444),\n",
       " (('light bulbs', 'whole milk'), 0.2413793103448276),\n",
       " (('artif. sweetener', 'soda'), 0.2413793103448276)]"
      ]
     },
     "execution_count": 35,
     "metadata": {},
     "output_type": "execute_result"
    }
   ],
   "source": [
    "rules\n"
   ]
  },
  {
   "cell_type": "code",
   "execution_count": null,
   "metadata": {},
   "outputs": [],
   "source": [
    "# Milk is the most suggested item mainly due to the frequency"
   ]
  }
 ],
 "metadata": {
  "kernelspec": {
   "display_name": "default_env",
   "language": "python",
   "name": "python3"
  },
  "language_info": {
   "codemirror_mode": {
    "name": "ipython",
    "version": 3
   },
   "file_extension": ".py",
   "mimetype": "text/x-python",
   "name": "python",
   "nbconvert_exporter": "python",
   "pygments_lexer": "ipython3",
   "version": "3.10.5"
  },
  "orig_nbformat": 4
 },
 "nbformat": 4,
 "nbformat_minor": 2
}
